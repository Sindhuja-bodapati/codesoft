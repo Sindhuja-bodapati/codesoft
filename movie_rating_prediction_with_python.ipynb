{
  "nbformat": 4,
  "nbformat_minor": 0,
  "metadata": {
    "colab": {
      "provenance": [],
      "name": "movie-rating-prediction-with-python.ipynb",
      "include_colab_link": true
    },
    "kernelspec": {
      "name": "python3",
      "display_name": "Python 3"
    },
    "language_info": {
      "name": "python"
    }
  },
  "cells": [
    {
      "cell_type": "markdown",
      "metadata": {
        "id": "view-in-github",
        "colab_type": "text"
      },
      "source": [
        "<a href=\"https://colab.research.google.com/github/Sindhuja-bodapati/codesoft/blob/main/movie_rating_prediction_with_python.ipynb\" target=\"_parent\"><img src=\"https://colab.research.google.com/assets/colab-badge.svg\" alt=\"Open In Colab\"/></a>"
      ]
    },
    {
      "cell_type": "code",
      "execution_count": 4,
      "metadata": {
        "id": "wMW-tmpfQIzD"
      },
      "outputs": [],
      "source": [
        "import pandas as pd\n",
        "from io import StringIO\n",
        "from sklearn.linear_model import LinearRegression\n",
        "from sklearn.model_selection import train_test_split\n",
        "from sklearn.metrics import mean_squared_error\n",
        "\n",
        "# Assuming 'data' is a string containing your data\n",
        "# If 'data' comes from a file, you need to read it first\n",
        "# For example: with open('your_file.csv', 'r') as f: data = f.read()\n",
        "data = \"\"  # Replace with your actual data if you are using StringIO\n",
        "\n",
        "# Using StringIO to simulate a file object (in case you're reading from a string)\n",
        "data_io = StringIO(data)\n",
        "\n",
        "# Load data into a pandas DataFrame\n",
        "# Try specifying the encoding explicitly, for example 'latin-1' or 'iso-8859-1'\n",
        "df = pd.read_csv(\"/content/IMDb Movies India.csv\", encoding='latin-1')  # or encoding='iso-8859-1'\n",
        "\n",
        "\n",
        "# Clean up the dataset (e.g., removing rows with missing values or fixing column types)\n",
        "df = df.dropna(subset=[\"Name\", \"Year\", \"Rating\", \"Votes\"])  # drop rows where \"Name\""
      ]
    }
  ]
}