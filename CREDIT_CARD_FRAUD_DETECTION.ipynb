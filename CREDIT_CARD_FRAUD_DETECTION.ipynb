{
  "nbformat": 4,
  "nbformat_minor": 0,
  "metadata": {
    "colab": {
      "provenance": [],
      "include_colab_link": true
    },
    "kernelspec": {
      "name": "python3",
      "display_name": "Python 3"
    },
    "language_info": {
      "name": "python"
    }
  },
  "cells": [
    {
      "cell_type": "markdown",
      "metadata": {
        "id": "view-in-github",
        "colab_type": "text"
      },
      "source": [
        "<a href=\"https://colab.research.google.com/github/Sindhuja-bodapati/codesoft/blob/main/CREDIT_CARD_FRAUD_DETECTION.ipynb\" target=\"_parent\"><img src=\"https://colab.research.google.com/assets/colab-badge.svg\" alt=\"Open In Colab\"/></a>"
      ]
    },
    {
      "cell_type": "code",
      "execution_count": 1,
      "metadata": {
        "colab": {
          "base_uri": "https://localhost:8080/"
        },
        "id": "hcDbkK1k75ja",
        "outputId": "c9a96c5b-0590-4f67-ac6e-4aa00be31481"
      },
      "outputs": [
        {
          "output_type": "stream",
          "name": "stdout",
          "text": [
            "Data loaded successfully!\n",
            "\n",
            "Number of NaN values in 'Class' column before handling: 1\n",
            "Number of NaN values in 'Class' column after handling: 0\n",
            "\n",
            "Class Distribution after handling NaN:\n",
            "Class\n",
            "0.0    0.996657\n",
            "1.0    0.003343\n",
            "Name: proportion, dtype: float64\n",
            "\n",
            "Training set shape: (19472, 30)\n",
            "Testing set shape: (8346, 30)\n",
            "\n",
            "Resampled training set shape: (38814, 30)\n",
            "Resampled target distribution:\n",
            "Class\n",
            "0.0    0.5\n",
            "1.0    0.5\n",
            "Name: proportion, dtype: float64\n",
            "\n",
            "Classification Report:\n",
            "              precision    recall  f1-score   support\n",
            "\n",
            "         0.0       1.00      0.99      1.00      8318\n",
            "         1.0       0.27      0.86      0.41        28\n",
            "\n",
            "    accuracy                           0.99      8346\n",
            "   macro avg       0.64      0.92      0.70      8346\n",
            "weighted avg       1.00      0.99      0.99      8346\n",
            "\n",
            "\n",
            "F1-score: 0.41379310344827586\n",
            "AUC: 0.9602368357778311\n"
          ]
        }
      ],
      "source": [
        "import pandas as pd\n",
        "from sklearn.model_selection import train_test_split\n",
        "from sklearn.preprocessing import StandardScaler\n",
        "from sklearn.linear_model import LogisticRegression\n",
        "from sklearn.metrics import classification_report, f1_score, roc_auc_score\n",
        "from imblearn.over_sampling import SMOTE  # For handling class imbalance\n",
        "\n",
        "# Load the dataset\n",
        "try:\n",
        "    data = pd.read_csv('/content/creditcard.csv')\n",
        "    print(\"Data loaded successfully!\")\n",
        "except FileNotFoundError:\n",
        "    print(\"Error: 'creditcard.csv' not found. Please provide the correct file path.\")\n",
        "    data = None\n",
        "\n",
        "if data is not None:\n",
        "    # Check for NaN values in the 'Class' column\n",
        "    print(\"\\nNumber of NaN values in 'Class' column before handling:\", data['Class'].isnull().sum())\n",
        "\n",
        "    # Remove rows where 'Class' is NaN\n",
        "    data_cleaned = data.dropna(subset=['Class'])\n",
        "\n",
        "    # Check the number of NaN values again to confirm removal\n",
        "    print(\"Number of NaN values in 'Class' column after handling:\", data_cleaned['Class'].isnull().sum())\n",
        "\n",
        "    # Separate features (X) and target (y) from the cleaned data\n",
        "    X = data_cleaned.drop('Class', axis=1)\n",
        "    y = data_cleaned['Class']\n",
        "\n",
        "    # Explore class distribution\n",
        "    print(\"\\nClass Distribution after handling NaN:\")\n",
        "    print(y.value_counts(normalize=True))\n",
        "\n",
        "    # Separate 'Time' and 'Amount' for scaling\n",
        "    time_amount = X[['Time', 'Amount']]\n",
        "    pca_features = X.drop(['Time', 'Amount'], axis=1)\n",
        "\n",
        "    # Scale 'Time' and 'Amount'\n",
        "    scaler = StandardScaler()\n",
        "    scaled_time_amount = scaler.fit_transform(time_amount)\n",
        "    scaled_time_amount_df = pd.DataFrame(scaled_time_amount, columns=['Time', 'Amount'])\n",
        "\n",
        "    # Combine scaled features with PCA components\n",
        "    X_scaled = pd.concat([scaled_time_amount_df, pca_features], axis=1)\n",
        "\n",
        "    # Split the data into training and testing sets\n",
        "    X_train, X_test, y_train, y_test = train_test_split(X_scaled, y, test_size=0.3, random_state=42, stratify=y)\n",
        "\n",
        "    print(\"\\nTraining set shape:\", X_train.shape)\n",
        "    print(\"Testing set shape:\", X_test.shape)\n",
        "\n",
        "    # Handle class imbalance using SMOTE (Oversampling the minority class)\n",
        "    smote = SMOTE(random_state=42)\n",
        "    X_train_resampled, y_train_resampled = smote.fit_resample(X_train, y_train)\n",
        "\n",
        "    print(\"\\nResampled training set shape:\", X_train_resampled.shape)\n",
        "    print(\"Resampled target distribution:\")\n",
        "    print(y_train_resampled.value_counts(normalize=True))\n",
        "\n",
        "    # Train a Logistic Regression model\n",
        "    model = LogisticRegression(solver='liblinear', random_state=42)\n",
        "    model.fit(X_train_resampled, y_train_resampled)\n",
        "\n",
        "    # Make predictions on the test set\n",
        "    y_pred = model.predict(X_test)\n",
        "    y_prob = model.predict_proba(X_test)[:, 1]\n",
        "\n",
        "    # Evaluate the model\n",
        "    print(\"\\nClassification Report:\")\n",
        "    print(classification_report(y_test, y_pred))\n",
        "\n",
        "    print(\"\\nF1-score:\", f1_score(y_test, y_pred))\n",
        "    print(\"AUC:\", roc_auc_score(y_test, y_prob))"
      ]
    }
  ]
}